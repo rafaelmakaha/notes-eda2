{
 "cells": [
  {
   "cell_type": "markdown",
   "metadata": {},
   "source": [
    "### Selection Sort\n",
    "\n",
    "    O menor elemento irá para o começo do vetor"
   ]
  },
  {
   "cell_type": "code",
   "execution_count": null,
   "metadata": {},
   "outputs": [],
   "source": [
    "v = [5,-3,25,7,2,19,23]\n",
    "i = 0\n",
    "\n",
    "while i < len(v):\n",
    "    min = i\n",
    "    j = i+1\n",
    "    while j < len(v):\n",
    "        if v[j] < v[min]:\n",
    "            min = j\n",
    "        j+=1\n",
    "    if min != i:\n",
    "        aux = v[min]\n",
    "        v[min] = v[i]\n",
    "        v[i] = aux\n",
    "    i+=1\n",
    "    \n",
    "print(v)"
   ]
  },
  {
   "cell_type": "markdown",
   "metadata": {},
   "source": [
    "### Insertion Sort\n",
    "    Faz a varredura do vetor dividindo-o em ordenado e não ordenado. O primeiro item do vetor não ordenado é mandado para o ordenado e colocado na posição correta."
   ]
  },
  {
   "cell_type": "code",
   "execution_count": null,
   "metadata": {},
   "outputs": [],
   "source": [
    "v = [5,-3,25,7,2,19,23]\n",
    "i = 0\n",
    "\n",
    "while i < len(v):\n",
    "    j = i\n",
    "    while j != 0 and v[j] < v[j - 1]:\n",
    "        aux = v[j]\n",
    "        v[j] = v[j - 1]\n",
    "        v[j - 1] = aux\n",
    "        j -= 1\n",
    "    i += 1\n",
    "    \n",
    "print(v)"
   ]
  },
  {
   "cell_type": "markdown",
   "metadata": {},
   "source": [
    "### Bubble Sort\n",
    "    Envia o maior valor para o final do vetor."
   ]
  },
  {
   "cell_type": "code",
   "execution_count": null,
   "metadata": {},
   "outputs": [],
   "source": [
    "v = [5,-3,25,7,2,19,23]\n",
    "i = len(v)\n",
    "\n",
    "while i != 0:\n",
    "    j = 0\n",
    "    while j != i - 1:\n",
    "        if v[j] > v[j + 1]:\n",
    "            aux = v[j + 1]\n",
    "            v[j + 1] = v[j]\n",
    "            v[j] = aux\n",
    "        j += 1\n",
    "    i -= 1\n",
    "    \n",
    "print(v)"
   ]
  },
  {
   "cell_type": "markdown",
   "metadata": {},
   "source": [
    "### Shell Sort\n",
    "    Divide o vetor em setores menores para ordená-los entre si."
   ]
  },
  {
   "cell_type": "code",
   "execution_count": null,
   "metadata": {},
   "outputs": [],
   "source": [
    "v = [5,-3,25,7,2,19,23,8]\n",
    "n = len(v)\n",
    "h = int(n//2)\n",
    "\n",
    "while h > 0:\n",
    "    i = 0\n",
    "    while i < (n - h):\n",
    "        if v[i] > v[i+h]:\n",
    "            aux = v[i+h]\n",
    "            v[i+h] = v[i]\n",
    "            v[i] = aux\n",
    "        \n",
    "        i+=1\n",
    "    h = h//2\n",
    "print(v)"
   ]
  },
  {
   "cell_type": "markdown",
   "metadata": {},
   "source": [
    "### Cocktail Sort\n",
    "    Evolução do Bubble Sort. Leva o maior valor para o final do vetor e o menor valor para o início."
   ]
  },
  {
   "cell_type": "code",
   "execution_count": null,
   "metadata": {},
   "outputs": [],
   "source": [
    "v = [5,-3,25,7,2,19,23,8]\n",
    "i = 0\n",
    "j = len(v)\n",
    "k = 0\n",
    "troca = True\n",
    "\n",
    "while troca != False:\n",
    "    troca = False\n",
    "    while i < j:\n",
    "        if v[i] > v[i+1]:\n",
    "            aux = v[i+1]\n",
    "            v[i+1] = v[i]\n",
    "            v[i] = aux\n",
    "            Troca = True\n",
    "        i+=1\n",
    "        j-=1\n",
    "    while i > k:\n",
    "        if v[i] < v[i-1]:\n",
    "            aux = v[i-1]\n",
    "            v[i-1] = v[i]\n",
    "            v[i] = aux\n",
    "            troca = True\n",
    "        i-=1\n",
    "        k+=1\n",
    "print(v)"
   ]
  }
 ],
 "metadata": {
  "kernelspec": {
   "display_name": "Python 3 (ipykernel)",
   "language": "python",
   "name": "python3"
  },
  "language_info": {
   "codemirror_mode": {
    "name": "ipython",
    "version": 3
   },
   "file_extension": ".py",
   "mimetype": "text/x-python",
   "name": "python",
   "nbconvert_exporter": "python",
   "pygments_lexer": "ipython3",
   "version": "3.9.12"
  }
 },
 "nbformat": 4,
 "nbformat_minor": 2
}
